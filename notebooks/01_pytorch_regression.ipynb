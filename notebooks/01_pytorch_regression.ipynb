{
  "nbformat": 4,
  "nbformat_minor": 0,
  "metadata": {
    "colab": {
      "provenance": [],
      "toc_visible": true,
      "gpuType": "T4",
      "include_colab_link": true
    },
    "kernelspec": {
      "name": "python3",
      "display_name": "Python 3"
    },
    "accelerator": "GPU"
  },
  "cells": [
    {
      "cell_type": "markdown",
      "metadata": {
        "id": "view-in-github",
        "colab_type": "text"
      },
      "source": [
        "<a href=\"https://colab.research.google.com/github/Takfes/notes-deep-learning/blob/main/01_pytorch_regression.ipynb\" target=\"_parent\"><img src=\"https://colab.research.google.com/assets/colab-badge.svg\" alt=\"Open In Colab\"/></a>"
      ]
    },
    {
      "cell_type": "code",
      "source": [
        "# > Basic Functionalities\n",
        "# %load code.py\n",
        "# %pycat code.py\n",
        "# !rm code.py\n",
        "# %%writefile code.py\n",
        "\n",
        "# > Enable interactive tables\n",
        "# %load_ext google.colab.data_table\n",
        "# %unload_ext google.colab.data_table"
      ],
      "metadata": {
        "id": "ME8fZISDWGrm"
      },
      "execution_count": null,
      "outputs": []
    },
    {
      "cell_type": "code",
      "source": [
        "from google.colab import drive\n",
        "drive.mount('/content/gdrive')"
      ],
      "metadata": {
        "colab": {
          "base_uri": "https://localhost:8080/"
        },
        "id": "64wm1mQ_UARU",
        "outputId": "0d18c8dd-37d7-4e64-f54d-760c2a1ca3ae"
      },
      "execution_count": 1,
      "outputs": [
        {
          "output_type": "stream",
          "name": "stdout",
          "text": [
            "Mounted at /content/gdrive\n"
          ]
        }
      ]
    },
    {
      "cell_type": "code",
      "source": [
        "import torch\n",
        "import numpy as np\n",
        "import matplotlib.pyplot as plt"
      ],
      "metadata": {
        "id": "K05iRZfyWY_m"
      },
      "execution_count": 2,
      "outputs": []
    },
    {
      "cell_type": "markdown",
      "source": [
        "### Define Functions"
      ],
      "metadata": {
        "id": "OzWN1c2Oifdl"
      }
    },
    {
      "cell_type": "code",
      "source": [
        "def regression(x, alpha, beta):\n",
        "    return x * alpha + beta"
      ],
      "metadata": {
        "id": "7DM3MqxTbguU"
      },
      "execution_count": 6,
      "outputs": []
    },
    {
      "cell_type": "code",
      "source": [
        "def regression_plot(xs, ys, alpha=None, beta=None):\n",
        "    xs,ys = xs.detach().numpy(),ys.detach().numpy()\n",
        "    fig, ax = plt.subplots(figsize=(8,3))\n",
        "    ax.scatter(xs, ys)\n",
        "    x_min, x_max = ax.get_xlim()\n",
        "    ax.set_xlim([x_min, x_max])\n",
        "    if (alpha is not None) & (beta is not None):\n",
        "        alpha,beta = alpha.detach().numpy(),beta.detach().numpy()\n",
        "        y_min = regression(x_min, alpha, beta)\n",
        "        y_max = regression(x_max, alpha, beta)\n",
        "        _ = ax.plot([x_min, x_max], [y_min, y_max])"
      ],
      "metadata": {
        "id": "j1XnTPchdJVc"
      },
      "execution_count": 106,
      "outputs": []
    },
    {
      "cell_type": "code",
      "source": [
        "def mse(y,yhat):\n",
        "    return torch.sum((y-yhat)**2)/len(y)"
      ],
      "metadata": {
        "id": "PmtDRUj6fy3g"
      },
      "execution_count": 8,
      "outputs": []
    },
    {
      "cell_type": "markdown",
      "source": [
        "### Settings"
      ],
      "metadata": {
        "id": "W4Ub50helzej"
      }
    },
    {
      "cell_type": "code",
      "source": [
        "RANDOM_SEED = 1990\n",
        "NOISE_STD = 0.2\n",
        "ALPHA = -0.5\n",
        "BETA = 2\n",
        "LEARNING_RATE = 0.01\n",
        "EPOCHS = 1_000"
      ],
      "metadata": {
        "id": "Lou1HMVOYcwu"
      },
      "execution_count": 121,
      "outputs": []
    },
    {
      "cell_type": "code",
      "source": [
        "# Set the seed for generating random numbers\n",
        "print(f\"{torch.__version__=}\")\n",
        "print(f\"{torch.cuda.is_available()=}\")\n",
        "torch.manual_seed(RANDOM_SEED)\n",
        "\n",
        "# If using CUDA, set the seed for all GPUs\n",
        "if torch.cuda.is_available():\n",
        "    torch.cuda.manual_seed_all(RANDOM_SEED)"
      ],
      "metadata": {
        "colab": {
          "base_uri": "https://localhost:8080/"
        },
        "id": "jk61pv7WYHha",
        "outputId": "e1e2427d-b6c2-4725-aacf-f3dc9b4bc26a"
      },
      "execution_count": 5,
      "outputs": [
        {
          "output_type": "stream",
          "name": "stdout",
          "text": [
            "torch.__version__='2.1.0+cu121'\n",
            "torch.cuda.is_available()=True\n"
          ]
        }
      ]
    },
    {
      "cell_type": "markdown",
      "source": [
        "### Generate data"
      ],
      "metadata": {
        "id": "jRA9bzWZb9zW"
      }
    },
    {
      "cell_type": "code",
      "source": [
        "# Create X\n",
        "x = torch.arange(0,10, dtype=torch.float32, requires_grad=True)\n",
        "# Create Noise\n",
        "noise = torch.normal(mean = torch.zeros_like(x), std = NOISE_STD)\n",
        "# Create y = alpha * x + beta + noise\n",
        "y = ALPHA * x + BETA + noise\n",
        "\n",
        "# Initialize a & b\n",
        "a = torch.tensor([0.9], requires_grad=True)\n",
        "b = torch.tensor([0.1]).requires_grad_()\n",
        "\n",
        "# # Check requires_grad attribute\n",
        "# print(f\"{x.requires_grad=}, {y.requires_grad=}, {noise.requires_grad=}\")\n",
        "# print(f\"{a.requires_grad=}, {b.requires_grad=}\")\n",
        "\n",
        "print(f\"Remember the data generation process assumed : a = {ALPHA} | b = {BETA}\\n\")\n",
        "print(f\"In our example, initial values set such that : a = {a.item():.4f} | b = {b.item():.4f}\\n\")\n",
        "\n",
        "# Regression plot based on initial values\n",
        "regression_plot(x, y, a, b)\n",
        "\n",
        "# Prepare a second set of parameters for later use\n",
        "x2, y2, a2, b2 = x, y, a, b"
      ],
      "metadata": {
        "colab": {
          "base_uri": "https://localhost:8080/",
          "height": 345
        },
        "id": "X3VA0gPBXCzA",
        "outputId": "21101dcd-8944-492b-bc55-d6f3f9877809"
      },
      "execution_count": 209,
      "outputs": [
        {
          "output_type": "stream",
          "name": "stdout",
          "text": [
            "Remember the data generation process assumed : a = -0.5 | b = 2\n",
            "\n",
            "In our example, initial values set such that : a = 0.9000 | b = 0.1000\n",
            "\n"
          ]
        },
        {
          "output_type": "display_data",
          "data": {
            "text/plain": [
              "<Figure size 800x300 with 1 Axes>"
            ],
            "image/png": "[encoded data removed]"
          },
          "metadata": {}
        }
      ]
    },
    {
      "cell_type": "markdown",
      "source": [
        "### Training loop custom"
      ],
      "metadata": {
        "id": "ialsUO6Vim1u"
      }
    },
    {
      "cell_type": "code",
      "source": [
        "for epoch in range(EPOCHS):\n",
        "\n",
        "    # 1. Forward Pass\n",
        "    yhat = regression(x,a,b)\n",
        "\n",
        "    # 2. Calculate Loss\n",
        "    error = mse(y,yhat)\n",
        "\n",
        "    # 3. Calculate Gradients\n",
        "    error.backward(retain_graph=True)\n",
        "    # print(f\"> gradients : a_grad = {a.grad.item():.4f},b_grad = {b.grad.item():.4f}\")\n",
        "\n",
        "    # 4. Gradient Descent\n",
        "    a_update, b_update = a.grad * LEARNING_RATE, b.grad * LEARNING_RATE\n",
        "    a.data = a.data - a_update\n",
        "    b.data = b.data - b_update\n",
        "    # print(f\"> updates : a_update = {a_update.item():.4f}, b_update = {b_update.item():.4f}\")\n",
        "    # print(f\"> backpropagation : a_new = {a.item():.4f}, b_new = {b.item():.4f}\")\n",
        "\n",
        "    # Log progress & parameters\n",
        "    if (epoch % 100 == 0) or (epoch < 20):\n",
        "        print(f\"{epoch} a = {a.item():.4f} | b = {b.item():.4f} | {error=:.4f}\")\n",
        "\n",
        "    # Clean out gradients\n",
        "    a.grad.zero_()\n",
        "    b.grad.zero_()\n",
        "\n",
        "# Final values\n",
        "print(f\"\\nFinal values after training : a = {a.item():.4f} | b = {b.item():.4f}\")\n",
        "print(f\"Remember the data generation process assumed : a = {ALPHA} | b = {BETA}\\n\")"
      ],
      "metadata": {
        "colab": {
          "base_uri": "https://localhost:8080/"
        },
        "id": "082BtwJJgM6P",
        "outputId": "83995fe3-94e1-421b-bb72-784e75bf9cc9"
      },
      "execution_count": 210,
      "outputs": [
        {
          "output_type": "stream",
          "name": "stdout",
          "text": [
            "0 a = 0.2692 | b = 0.0117 | error=36.0491\n",
            "1 a = 0.0060 | b = -0.0180 | error=7.3316\n",
            "2 a = -0.1046 | b = -0.0235 | error=2.3583\n",
            "3 a = -0.1516 | b = -0.0189 | error=1.4872\n",
            "4 a = -0.1723 | b = -0.0101 | error=1.3249\n",
            "5 a = -0.1819 | b = 0.0003 | error=1.2853\n",
            "6 a = -0.1870 | b = 0.0114 | error=1.2669\n",
            "7 a = -0.1902 | b = 0.0227 | error=1.2524\n",
            "8 a = -0.1926 | b = 0.0341 | error=1.2386\n",
            "9 a = -0.1946 | b = 0.0454 | error=1.2252\n",
            "10 a = -0.1966 | b = 0.0568 | error=1.2118\n",
            "11 a = -0.1984 | b = 0.0681 | error=1.1987\n",
            "12 a = -0.2002 | b = 0.0793 | error=1.1857\n",
            "13 a = -0.2020 | b = 0.0904 | error=1.1728\n",
            "14 a = -0.2038 | b = 0.1015 | error=1.1601\n",
            "15 a = -0.2055 | b = 0.1125 | error=1.1475\n",
            "16 a = -0.2073 | b = 0.1235 | error=1.1351\n",
            "17 a = -0.2090 | b = 0.1344 | error=1.1228\n",
            "18 a = -0.2107 | b = 0.1452 | error=1.1106\n",
            "19 a = -0.2124 | b = 0.1560 | error=1.0986\n",
            "100 a = -0.3238 | b = 0.8544 | error=0.4651\n",
            "200 a = -0.4065 | b = 1.3731 | error=0.1794\n",
            "300 a = -0.4535 | b = 1.6676 | error=0.0873\n",
            "400 a = -0.4802 | b = 1.8347 | error=0.0577\n",
            "500 a = -0.4953 | b = 1.9296 | error=0.0481\n",
            "600 a = -0.5039 | b = 1.9834 | error=0.0450\n",
            "700 a = -0.5087 | b = 2.0140 | error=0.0440\n",
            "800 a = -0.5115 | b = 2.0313 | error=0.0437\n",
            "900 a = -0.5131 | b = 2.0412 | error=0.0436\n",
            "\n",
            "Final values after training : a = -0.5140 | b = 2.0467\n",
            "Remember the data generation process assumed : a = -0.5 | b = 2\n",
            "\n"
          ]
        }
      ]
    },
    {
      "cell_type": "code",
      "source": [
        "regression_plot(x, y, a, b)"
      ],
      "metadata": {
        "colab": {
          "base_uri": "https://localhost:8080/",
          "height": 274
        },
        "id": "jP8hFbcLffn0",
        "outputId": "d6758f0d-df85-4340-ea53-8a0e6468e087"
      },
      "execution_count": 211,
      "outputs": [
        {
          "output_type": "display_data",
          "data": {
            "text/plain": [
              "<Figure size 800x300 with 1 Axes>"
            ],
            "image/png": "[encoded data removed]"
          },
          "metadata": {}
        }
      ]
    },
    {
      "cell_type": "markdown",
      "source": [
        "### Training loop w/ optimizer"
      ],
      "metadata": {
        "id": "FU5HZGkBzqsC"
      }
    },
    {
      "cell_type": "code",
      "source": [
        "optimizer = torch.optim.SGD([a2, b2], lr=LEARNING_RATE)\n",
        "for epoch in range(EPOCHS):\n",
        "\n",
        "    optimizer.zero_grad() # Reset gradients to zero; else they accumulate\n",
        "\n",
        "    yhat2 = regression(x2, a2, b2) # Step 1\n",
        "    error2 = mse(yhat2, y2) # Step 2\n",
        "\n",
        "    error2.backward(retain_graph=True) # Step 3\n",
        "    optimizer.step() # Step 4\n",
        "\n",
        "    if (epoch % 100 == 0) or (epoch < 20):\n",
        "        print(f\"{epoch} a = {a2.item():.4f} | b = {b2.item():.4f} | {error2=:.4f}\")\n",
        "    # print('Epoch {}, cost {}, m grad {}, b grad {}'.format(epoch, '%.3g' % C.item(), '%.3g' % a2.grad.item(), '%.3g' % b2.grad.item()))\n",
        "\n",
        "# Final values\n",
        "print(f\"\\nFinal values after training : a = {a.item():.4f} | b = {b.item():.4f}\")\n",
        "print(f\"\\nFinal values after training : a2 = {a2.item():.4f} | b2 = {b2.item():.4f}\")\n",
        "print(f\"Remember the data generation process assumed : a = {ALPHA} | b = {BETA}\\n\")"
      ],
      "metadata": {
        "colab": {
          "base_uri": "https://localhost:8080/"
        },
        "id": "OV5bXTtwzp5R",
        "outputId": "65430de0-207b-4a6c-9e46-6cb5f01e3832"
      },
      "execution_count": 212,
      "outputs": [
        {
          "output_type": "stream",
          "name": "stdout",
          "text": [
            "0 a = -0.5140 | b = 2.0468 | error2=0.0436\n",
            "1 a = -0.5140 | b = 2.0468 | error2=0.0436\n",
            "2 a = -0.5140 | b = 2.0469 | error2=0.0436\n",
            "3 a = -0.5140 | b = 2.0469 | error2=0.0436\n",
            "4 a = -0.5140 | b = 2.0470 | error2=0.0436\n",
            "5 a = -0.5140 | b = 2.0470 | error2=0.0436\n",
            "6 a = -0.5140 | b = 2.0470 | error2=0.0436\n",
            "7 a = -0.5140 | b = 2.0471 | error2=0.0436\n",
            "8 a = -0.5140 | b = 2.0471 | error2=0.0436\n",
            "9 a = -0.5140 | b = 2.0472 | error2=0.0436\n",
            "10 a = -0.5140 | b = 2.0472 | error2=0.0436\n",
            "11 a = -0.5140 | b = 2.0472 | error2=0.0436\n",
            "12 a = -0.5141 | b = 2.0473 | error2=0.0436\n",
            "13 a = -0.5141 | b = 2.0473 | error2=0.0436\n",
            "14 a = -0.5141 | b = 2.0473 | error2=0.0436\n",
            "15 a = -0.5141 | b = 2.0474 | error2=0.0436\n",
            "16 a = -0.5141 | b = 2.0474 | error2=0.0436\n",
            "17 a = -0.5141 | b = 2.0475 | error2=0.0436\n",
            "18 a = -0.5141 | b = 2.0475 | error2=0.0436\n",
            "19 a = -0.5141 | b = 2.0475 | error2=0.0436\n",
            "100 a = -0.5145 | b = 2.0500 | error2=0.0436\n",
            "200 a = -0.5148 | b = 2.0518 | error2=0.0436\n",
            "300 a = -0.5149 | b = 2.0528 | error2=0.0436\n",
            "400 a = -0.5150 | b = 2.0534 | error2=0.0436\n",
            "500 a = -0.5151 | b = 2.0537 | error2=0.0436\n",
            "600 a = -0.5151 | b = 2.0539 | error2=0.0436\n",
            "700 a = -0.5151 | b = 2.0540 | error2=0.0436\n",
            "800 a = -0.5151 | b = 2.0540 | error2=0.0436\n",
            "900 a = -0.5151 | b = 2.0541 | error2=0.0436\n",
            "\n",
            "Final values after training : a = -0.5151 | b = 2.0541\n",
            "\n",
            "Final values after training : a2 = -0.5151 | b2 = 2.0541\n",
            "Remember the data generation process assumed : a = -0.5 | b = 2\n",
            "\n"
          ]
        }
      ]
    },
    {
      "cell_type": "markdown",
      "source": [
        "### Extra : visualize a DAG"
      ],
      "metadata": {
        "id": "iovOoFEc6VdO"
      }
    },
    {
      "cell_type": "code",
      "source": [
        "! pip install torchviz"
      ],
      "metadata": {
        "colab": {
          "base_uri": "https://localhost:8080/"
        },
        "id": "cA54bbRv0yU_",
        "outputId": "d42853eb-7a3d-44b6-afb8-ba2fe1b55973"
      },
      "execution_count": 194,
      "outputs": [
        {
          "output_type": "stream",
          "name": "stdout",
          "text": [
            "Collecting torchviz\n",
            "  Downloading torchviz-0.0.2.tar.gz (4.9 kB)\n",
            "  Preparing metadata (setup.py) ... \u001b[?25l\u001b[?25hdone\n",
            "Requirement already satisfied: torch in /usr/local/lib/python3.10/dist-packages (from torchviz) (2.1.0+cu121)\n",
            "Requirement already satisfied: graphviz in /usr/local/lib/python3.10/dist-packages (from torchviz) (0.20.1)\n",
            "Requirement already satisfied: filelock in /usr/local/lib/python3.10/dist-packages (from torch->torchviz) (3.13.1)\n",
            "Requirement already satisfied: typing-extensions in /usr/local/lib/python3.10/dist-packages (from torch->torchviz) (4.5.0)\n",
            "Requirement already satisfied: sympy in /usr/local/lib/python3.10/dist-packages (from torch->torchviz) (1.12)\n",
            "Requirement already satisfied: networkx in /usr/local/lib/python3.10/dist-packages (from torch->torchviz) (3.2.1)\n",
            "Requirement already satisfied: jinja2 in /usr/local/lib/python3.10/dist-packages (from torch->torchviz) (3.1.3)\n",
            "Requirement already satisfied: fsspec in /usr/local/lib/python3.10/dist-packages (from torch->torchviz) (2023.6.0)\n",
            "Requirement already satisfied: triton==2.1.0 in /usr/local/lib/python3.10/dist-packages (from torch->torchviz) (2.1.0)\n",
            "Requirement already satisfied: MarkupSafe>=2.0 in /usr/local/lib/python3.10/dist-packages (from jinja2->torch->torchviz) (2.1.3)\n",
            "Requirement already satisfied: mpmath>=0.19 in /usr/local/lib/python3.10/dist-packages (from sympy->torch->torchviz) (1.3.0)\n",
            "Building wheels for collected packages: torchviz\n",
            "  Building wheel for torchviz (setup.py) ... \u001b[?25l\u001b[?25hdone\n",
            "  Created wheel for torchviz: filename=torchviz-0.0.2-py3-none-any.whl size=4131 sha256=6565ac2a57dab5db21e97c5cd80b14d0a12771eb7599c49e95a5b84fd7d29441\n",
            "  Stored in directory: /root/.cache/pip/wheels/4c/97/88/a02973217949e0db0c9f4346d154085f4725f99c4f15a87094\n",
            "Successfully built torchviz\n",
            "Installing collected packages: torchviz\n",
            "Successfully installed torchviz-0.0.2\n"
          ]
        }
      ]
    },
    {
      "cell_type": "code",
      "source": [
        "from torchviz import make_dot\n",
        "\n",
        "# Define a simple computation graph\n",
        "x = torch.randn(1, requires_grad=True)\n",
        "y = torch.randn(1, requires_grad=True)\n",
        "a = x + y\n",
        "b = a * y\n",
        "c = b.mean()\n",
        "\n",
        "# Visualize the graph\n",
        "dot = make_dot(c, params={'x': x, 'y': y})\n",
        "\n",
        "# To render the graph (requires Graphviz installed on your system)\n",
        "dot.render('computational_graph', format='png')\n",
        "\n",
        "# Or to just display it in Jupyter Notebook (if you're using one)\n",
        "dot"
      ],
      "metadata": {
        "colab": {
          "base_uri": "https://localhost:8080/",
          "height": 454
        },
        "id": "VOPtqvYm5jRi",
        "outputId": "42d21f5f-da56-4cc8-d7ba-3e228f5b245e"
      },
      "execution_count": 196,
      "outputs": [
        {
          "output_type": "execute_result",
          "data": {
            "image/svg+xml": "<?xml version=\"1.0\" encoding=\"UTF-8\" standalone=\"no\"?>\n<!DOCTYPE svg PUBLIC \"-//W3C//DTD SVG 1.1//EN\"\n \"http://www.w3.org/Graphics/SVG/1.1/DTD/svg11.dtd\">\n<!-- Generated by graphviz version 2.43.0 (0)\n -->\n<!-- Title: %3 Pages: 1 -->\n<svg width=\"228pt\" height=\"325pt\"\n viewBox=\"0.00 0.00 228.00 325.00\" xmlns=\"http://www.w3.org/2000/svg\" xmlns:xlink=\"http://www.w3.org/1999/xlink\">\n<g id=\"graph0\" class=\"graph\" transform=\"scale(1 1) rotate(0) translate(4 321)\">\n<title>%3</title>\n<polygon fill=\"white\" stroke=\"transparent\" points=\"-4,4 -4,-321 224,-321 224,4 -4,4\"/>\n<!-- 140041187757568 -->\n<g id=\"node1\" class=\"node\">\n<title>140041187757568</title>\n<polygon fill=\"#caff70\" stroke=\"black\" points=\"159.5,-31 105.5,-31 105.5,0 159.5,0 159.5,-31\"/>\n<text text-anchor=\"middle\" x=\"132.5\" y=\"-7\" font-family=\"monospace\" font-size=\"10.00\"> ()</text>\n</g>\n<!-- 140036596940320 -->\n<g id=\"node2\" class=\"node\">\n<title>140036596940320</title>\n<polygon fill=\"lightgrey\" stroke=\"black\" points=\"180,-86 85,-86 85,-67 180,-67 180,-86\"/>\n<text text-anchor=\"middle\" x=\"132.5\" y=\"-74\" font-family=\"monospace\" font-size=\"10.00\">MeanBackward0</text>\n</g>\n<!-- 140036596940320&#45;&gt;140041187757568 -->\n<g id=\"edge8\" class=\"edge\">\n<title>140036596940320&#45;&gt;140041187757568</title>\n<path fill=\"none\" stroke=\"black\" d=\"M132.5,-66.79C132.5,-60.07 132.5,-50.4 132.5,-41.34\"/>\n<polygon fill=\"black\" stroke=\"black\" points=\"136,-41.19 132.5,-31.19 129,-41.19 136,-41.19\"/>\n</g>\n<!-- 140036596940560 -->\n<g id=\"node3\" class=\"node\">\n<title>140036596940560</title>\n<polygon fill=\"lightgrey\" stroke=\"black\" points=\"177,-141 88,-141 88,-122 177,-122 177,-141\"/>\n<text text-anchor=\"middle\" x=\"132.5\" y=\"-129\" font-family=\"monospace\" font-size=\"10.00\">MulBackward0</text>\n</g>\n<!-- 140036596940560&#45;&gt;140036596940320 -->\n<g id=\"edge1\" class=\"edge\">\n<title>140036596940560&#45;&gt;140036596940320</title>\n<path fill=\"none\" stroke=\"black\" d=\"M132.5,-121.75C132.5,-114.8 132.5,-104.85 132.5,-96.13\"/>\n<polygon fill=\"black\" stroke=\"black\" points=\"136,-96.09 132.5,-86.09 129,-96.09 136,-96.09\"/>\n</g>\n<!-- 140036596936192 -->\n<g id=\"node4\" class=\"node\">\n<title>140036596936192</title>\n<polygon fill=\"lightgrey\" stroke=\"black\" points=\"141,-196 52,-196 52,-177 141,-177 141,-196\"/>\n<text text-anchor=\"middle\" x=\"96.5\" y=\"-184\" font-family=\"monospace\" font-size=\"10.00\">AddBackward0</text>\n</g>\n<!-- 140036596936192&#45;&gt;140036596940560 -->\n<g id=\"edge2\" class=\"edge\">\n<title>140036596936192&#45;&gt;140036596940560</title>\n<path fill=\"none\" stroke=\"black\" d=\"M102.44,-176.75C107.48,-169.34 114.84,-158.5 121.01,-149.41\"/>\n<polygon fill=\"black\" stroke=\"black\" points=\"123.94,-151.33 126.67,-141.09 118.15,-147.39 123.94,-151.33\"/>\n</g>\n<!-- 140036598317840 -->\n<g id=\"node5\" class=\"node\">\n<title>140036598317840</title>\n<polygon fill=\"lightgrey\" stroke=\"black\" points=\"101,-251 0,-251 0,-232 101,-232 101,-251\"/>\n<text text-anchor=\"middle\" x=\"50.5\" y=\"-239\" font-family=\"monospace\" font-size=\"10.00\">AccumulateGrad</text>\n</g>\n<!-- 140036598317840&#45;&gt;140036596936192 -->\n<g id=\"edge3\" class=\"edge\">\n<title>140036598317840&#45;&gt;140036596936192</title>\n<path fill=\"none\" stroke=\"black\" d=\"M58.1,-231.75C64.66,-224.18 74.32,-213.05 82.31,-203.84\"/>\n<polygon fill=\"black\" stroke=\"black\" points=\"85.13,-205.94 89.05,-196.09 79.85,-201.35 85.13,-205.94\"/>\n</g>\n<!-- 140041187760128 -->\n<g id=\"node6\" class=\"node\">\n<title>140041187760128</title>\n<polygon fill=\"lightblue\" stroke=\"black\" points=\"77.5,-317 23.5,-317 23.5,-287 77.5,-287 77.5,-317\"/>\n<text text-anchor=\"middle\" x=\"50.5\" y=\"-305\" font-family=\"monospace\" font-size=\"10.00\">x</text>\n<text text-anchor=\"middle\" x=\"50.5\" y=\"-294\" font-family=\"monospace\" font-size=\"10.00\"> (1)</text>\n</g>\n<!-- 140041187760128&#45;&gt;140036598317840 -->\n<g id=\"edge4\" class=\"edge\">\n<title>140041187760128&#45;&gt;140036598317840</title>\n<path fill=\"none\" stroke=\"black\" d=\"M50.5,-286.84C50.5,-279.21 50.5,-269.7 50.5,-261.45\"/>\n<polygon fill=\"black\" stroke=\"black\" points=\"54,-261.27 50.5,-251.27 47,-261.27 54,-261.27\"/>\n</g>\n<!-- 140036596940704 -->\n<g id=\"node7\" class=\"node\">\n<title>140036596940704</title>\n<polygon fill=\"lightgrey\" stroke=\"black\" points=\"220,-251 119,-251 119,-232 220,-232 220,-251\"/>\n<text text-anchor=\"middle\" x=\"169.5\" y=\"-239\" font-family=\"monospace\" font-size=\"10.00\">AccumulateGrad</text>\n</g>\n<!-- 140036596940704&#45;&gt;140036596940560 -->\n<g id=\"edge7\" class=\"edge\">\n<title>140036596940704&#45;&gt;140036596940560</title>\n<path fill=\"none\" stroke=\"black\" d=\"M166.95,-231.82C163.29,-219.54 156.26,-196.43 149.5,-177 146.47,-168.31 142.87,-158.77 139.76,-150.76\"/>\n<polygon fill=\"black\" stroke=\"black\" points=\"142.96,-149.33 136.04,-141.31 136.44,-151.9 142.96,-149.33\"/>\n</g>\n<!-- 140036596940704&#45;&gt;140036596936192 -->\n<g id=\"edge5\" class=\"edge\">\n<title>140036596940704&#45;&gt;140036596936192</title>\n<path fill=\"none\" stroke=\"black\" d=\"M157.77,-231.98C146.77,-224 130.08,-211.88 116.9,-202.31\"/>\n<polygon fill=\"black\" stroke=\"black\" points=\"118.59,-199.21 108.44,-196.17 114.48,-204.88 118.59,-199.21\"/>\n</g>\n<!-- 140041187755008 -->\n<g id=\"node8\" class=\"node\">\n<title>140041187755008</title>\n<polygon fill=\"lightblue\" stroke=\"black\" points=\"196.5,-317 142.5,-317 142.5,-287 196.5,-287 196.5,-317\"/>\n<text text-anchor=\"middle\" x=\"169.5\" y=\"-305\" font-family=\"monospace\" font-size=\"10.00\">y</text>\n<text text-anchor=\"middle\" x=\"169.5\" y=\"-294\" font-family=\"monospace\" font-size=\"10.00\"> (1)</text>\n</g>\n<!-- 140041187755008&#45;&gt;140036596940704 -->\n<g id=\"edge6\" class=\"edge\">\n<title>140041187755008&#45;&gt;140036596940704</title>\n<path fill=\"none\" stroke=\"black\" d=\"M169.5,-286.84C169.5,-279.21 169.5,-269.7 169.5,-261.45\"/>\n<polygon fill=\"black\" stroke=\"black\" points=\"173,-261.27 169.5,-251.27 166,-261.27 173,-261.27\"/>\n</g>\n</g>\n</svg>\n",
            "text/plain": [
              "<graphviz.graphs.Digraph at 0x7f5ccf9dbdf0>"
            ]
          },
          "metadata": {},
          "execution_count": 196
        }
      ]
    },
    {
      "cell_type": "code",
      "source": [
        "def render_graph(tensor, params=None):\n",
        "    from torchviz import make_dot\n",
        "    # Visualize the graph\n",
        "    dot = make_dot(tensor, params=params)\n",
        "    # Render the graph to a file (requires Graphviz installed on your system)\n",
        "    dot.render('computational_graph', format='png')\n",
        "    # Display in Jupyter Notebook (if using one)\n",
        "    return dot"
      ],
      "metadata": {
        "id": "szmKmBrb6fcS"
      },
      "execution_count": 213,
      "outputs": []
    },
    {
      "cell_type": "code",
      "source": [
        "render_graph(error)"
      ],
      "metadata": {
        "colab": {
          "base_uri": "https://localhost:8080/",
          "height": 765
        },
        "id": "fw3zyIiv6oMY",
        "outputId": "55807462-bd6e-4dfd-bd65-db270e7c2b7a"
      },
      "execution_count": 214,
      "outputs": [
        {
          "output_type": "execute_result",
          "data": {
            "image/svg+xml": "<?xml version=\"1.0\" encoding=\"UTF-8\" standalone=\"no\"?>\n<!DOCTYPE svg PUBLIC \"-//W3C//DTD SVG 1.1//EN\"\n \"http://www.w3.org/Graphics/SVG/1.1/DTD/svg11.dtd\">\n<!-- Generated by graphviz version 2.43.0 (0)\n -->\n<!-- Title: %3 Pages: 1 -->\n<svg width=\"329pt\" height=\"558pt\"\n viewBox=\"0.00 0.00 329.00 558.00\" xmlns=\"http://www.w3.org/2000/svg\" xmlns:xlink=\"http://www.w3.org/1999/xlink\">\n<g id=\"graph0\" class=\"graph\" transform=\"scale(1 1) rotate(0) translate(4 554)\">\n<title>%3</title>\n<polygon fill=\"white\" stroke=\"transparent\" points=\"-4,4 -4,-554 325,-554 325,4 -4,4\"/>\n<!-- 140036597694304 -->\n<g id=\"node1\" class=\"node\">\n<title>140036597694304</title>\n<polygon fill=\"#caff70\" stroke=\"black\" points=\"243.5,-31 189.5,-31 189.5,0 243.5,0 243.5,-31\"/>\n<text text-anchor=\"middle\" x=\"216.5\" y=\"-7\" font-family=\"monospace\" font-size=\"10.00\"> ()</text>\n</g>\n<!-- 140036596203424 -->\n<g id=\"node2\" class=\"node\">\n<title>140036596203424</title>\n<polygon fill=\"lightgrey\" stroke=\"black\" points=\"261,-86 172,-86 172,-67 261,-67 261,-86\"/>\n<text text-anchor=\"middle\" x=\"216.5\" y=\"-74\" font-family=\"monospace\" font-size=\"10.00\">DivBackward0</text>\n</g>\n<!-- 140036596203424&#45;&gt;140036597694304 -->\n<g id=\"edge16\" class=\"edge\">\n<title>140036596203424&#45;&gt;140036597694304</title>\n<path fill=\"none\" stroke=\"black\" d=\"M216.5,-66.79C216.5,-60.07 216.5,-50.4 216.5,-41.34\"/>\n<polygon fill=\"black\" stroke=\"black\" points=\"220,-41.19 216.5,-31.19 213,-41.19 220,-41.19\"/>\n</g>\n<!-- 140036596203088 -->\n<g id=\"node3\" class=\"node\">\n<title>140036596203088</title>\n<polygon fill=\"lightgrey\" stroke=\"black\" points=\"261,-141 172,-141 172,-122 261,-122 261,-141\"/>\n<text text-anchor=\"middle\" x=\"216.5\" y=\"-129\" font-family=\"monospace\" font-size=\"10.00\">SumBackward0</text>\n</g>\n<!-- 140036596203088&#45;&gt;140036596203424 -->\n<g id=\"edge1\" class=\"edge\">\n<title>140036596203088&#45;&gt;140036596203424</title>\n<path fill=\"none\" stroke=\"black\" d=\"M216.5,-121.75C216.5,-114.8 216.5,-104.85 216.5,-96.13\"/>\n<polygon fill=\"black\" stroke=\"black\" points=\"220,-96.09 216.5,-86.09 213,-96.09 220,-96.09\"/>\n</g>\n<!-- 140036596203472 -->\n<g id=\"node4\" class=\"node\">\n<title>140036596203472</title>\n<polygon fill=\"lightgrey\" stroke=\"black\" points=\"261,-196 172,-196 172,-177 261,-177 261,-196\"/>\n<text text-anchor=\"middle\" x=\"216.5\" y=\"-184\" font-family=\"monospace\" font-size=\"10.00\">PowBackward0</text>\n</g>\n<!-- 140036596203472&#45;&gt;140036596203088 -->\n<g id=\"edge2\" class=\"edge\">\n<title>140036596203472&#45;&gt;140036596203088</title>\n<path fill=\"none\" stroke=\"black\" d=\"M216.5,-176.75C216.5,-169.8 216.5,-159.85 216.5,-151.13\"/>\n<polygon fill=\"black\" stroke=\"black\" points=\"220,-151.09 216.5,-141.09 213,-151.09 220,-151.09\"/>\n</g>\n<!-- 140036596201984 -->\n<g id=\"node5\" class=\"node\">\n<title>140036596201984</title>\n<polygon fill=\"lightgrey\" stroke=\"black\" points=\"261,-251 172,-251 172,-232 261,-232 261,-251\"/>\n<text text-anchor=\"middle\" x=\"216.5\" y=\"-239\" font-family=\"monospace\" font-size=\"10.00\">SubBackward0</text>\n</g>\n<!-- 140036596201984&#45;&gt;140036596203472 -->\n<g id=\"edge3\" class=\"edge\">\n<title>140036596201984&#45;&gt;140036596203472</title>\n<path fill=\"none\" stroke=\"black\" d=\"M216.5,-231.75C216.5,-224.8 216.5,-214.85 216.5,-206.13\"/>\n<polygon fill=\"black\" stroke=\"black\" points=\"220,-206.09 216.5,-196.09 213,-206.09 220,-206.09\"/>\n</g>\n<!-- 140036596202608 -->\n<g id=\"node6\" class=\"node\">\n<title>140036596202608</title>\n<polygon fill=\"lightgrey\" stroke=\"black\" points=\"306,-306 217,-306 217,-287 306,-287 306,-306\"/>\n<text text-anchor=\"middle\" x=\"261.5\" y=\"-294\" font-family=\"monospace\" font-size=\"10.00\">AddBackward0</text>\n</g>\n<!-- 140036596202608&#45;&gt;140036596201984 -->\n<g id=\"edge4\" class=\"edge\">\n<title>140036596202608&#45;&gt;140036596201984</title>\n<path fill=\"none\" stroke=\"black\" d=\"M254.07,-286.75C247.65,-279.18 238.19,-268.05 230.38,-258.84\"/>\n<polygon fill=\"black\" stroke=\"black\" points=\"232.93,-256.45 223.79,-251.09 227.6,-260.98 232.93,-256.45\"/>\n</g>\n<!-- 140036596203232 -->\n<g id=\"node7\" class=\"node\">\n<title>140036596203232</title>\n<polygon fill=\"lightgrey\" stroke=\"black\" points=\"315,-361 226,-361 226,-342 315,-342 315,-361\"/>\n<text text-anchor=\"middle\" x=\"270.5\" y=\"-349\" font-family=\"monospace\" font-size=\"10.00\">AddBackward0</text>\n</g>\n<!-- 140036596203232&#45;&gt;140036596202608 -->\n<g id=\"edge5\" class=\"edge\">\n<title>140036596203232&#45;&gt;140036596202608</title>\n<path fill=\"none\" stroke=\"black\" d=\"M269.01,-341.75C267.83,-334.8 266.14,-324.85 264.66,-316.13\"/>\n<polygon fill=\"black\" stroke=\"black\" points=\"268.08,-315.36 262.96,-306.09 261.18,-316.53 268.08,-315.36\"/>\n</g>\n<!-- 140036596201024 -->\n<g id=\"node8\" class=\"node\">\n<title>140036596201024</title>\n<polygon fill=\"lightgrey\" stroke=\"black\" points=\"315,-416 226,-416 226,-397 315,-397 315,-416\"/>\n<text text-anchor=\"middle\" x=\"270.5\" y=\"-404\" font-family=\"monospace\" font-size=\"10.00\">MulBackward0</text>\n</g>\n<!-- 140036596201024&#45;&gt;140036596203232 -->\n<g id=\"edge6\" class=\"edge\">\n<title>140036596201024&#45;&gt;140036596203232</title>\n<path fill=\"none\" stroke=\"black\" d=\"M270.5,-396.75C270.5,-389.8 270.5,-379.85 270.5,-371.13\"/>\n<polygon fill=\"black\" stroke=\"black\" points=\"274,-371.09 270.5,-361.09 267,-371.09 274,-371.09\"/>\n</g>\n<!-- 140036596201360 -->\n<g id=\"node9\" class=\"node\">\n<title>140036596201360</title>\n<polygon fill=\"lightgrey\" stroke=\"black\" points=\"321,-477 220,-477 220,-458 321,-458 321,-477\"/>\n<text text-anchor=\"middle\" x=\"270.5\" y=\"-465\" font-family=\"monospace\" font-size=\"10.00\">AccumulateGrad</text>\n</g>\n<!-- 140036596201360&#45;&gt;140036596201024 -->\n<g id=\"edge7\" class=\"edge\">\n<title>140036596201360&#45;&gt;140036596201024</title>\n<path fill=\"none\" stroke=\"black\" d=\"M270.5,-457.79C270.5,-449.6 270.5,-437.06 270.5,-426.55\"/>\n<polygon fill=\"black\" stroke=\"black\" points=\"274,-426.24 270.5,-416.24 267,-426.24 274,-426.24\"/>\n</g>\n<!-- 140036596201312 -->\n<g id=\"node12\" class=\"node\">\n<title>140036596201312</title>\n<polygon fill=\"lightgrey\" stroke=\"black\" points=\"208,-416 119,-416 119,-397 208,-397 208,-416\"/>\n<text text-anchor=\"middle\" x=\"163.5\" y=\"-404\" font-family=\"monospace\" font-size=\"10.00\">MulBackward0</text>\n</g>\n<!-- 140036596201360&#45;&gt;140036596201312 -->\n<g id=\"edge11\" class=\"edge\">\n<title>140036596201360&#45;&gt;140036596201312</title>\n<path fill=\"none\" stroke=\"black\" d=\"M254.71,-457.79C237.07,-448.07 208.29,-432.2 187.78,-420.89\"/>\n<polygon fill=\"black\" stroke=\"black\" points=\"189.45,-417.81 179.01,-416.05 186.07,-423.94 189.45,-417.81\"/>\n</g>\n<!-- 140036598694832 -->\n<g id=\"node10\" class=\"node\">\n<title>140036598694832</title>\n<polygon fill=\"lightblue\" stroke=\"black\" points=\"297.5,-550 243.5,-550 243.5,-519 297.5,-519 297.5,-550\"/>\n<text text-anchor=\"middle\" x=\"270.5\" y=\"-526\" font-family=\"monospace\" font-size=\"10.00\"> (10)</text>\n</g>\n<!-- 140036598694832&#45;&gt;140036596201360 -->\n<g id=\"edge8\" class=\"edge\">\n<title>140036598694832&#45;&gt;140036596201360</title>\n<path fill=\"none\" stroke=\"black\" d=\"M270.5,-518.75C270.5,-509.39 270.5,-497.19 270.5,-487.16\"/>\n<polygon fill=\"black\" stroke=\"black\" points=\"274,-487.02 270.5,-477.02 267,-487.02 274,-487.02\"/>\n</g>\n<!-- 140036596193584 -->\n<g id=\"node11\" class=\"node\">\n<title>140036596193584</title>\n<polygon fill=\"lightgrey\" stroke=\"black\" points=\"208,-361 119,-361 119,-342 208,-342 208,-361\"/>\n<text text-anchor=\"middle\" x=\"163.5\" y=\"-349\" font-family=\"monospace\" font-size=\"10.00\">AddBackward0</text>\n</g>\n<!-- 140036596193584&#45;&gt;140036596201984 -->\n<g id=\"edge9\" class=\"edge\">\n<title>140036596193584&#45;&gt;140036596201984</title>\n<path fill=\"none\" stroke=\"black\" d=\"M167.84,-341.66C176.54,-323.93 196.27,-283.73 207.76,-260.32\"/>\n<polygon fill=\"black\" stroke=\"black\" points=\"210.99,-261.68 212.25,-251.16 204.7,-258.59 210.99,-261.68\"/>\n</g>\n<!-- 140036596201312&#45;&gt;140036596193584 -->\n<g id=\"edge10\" class=\"edge\">\n<title>140036596201312&#45;&gt;140036596193584</title>\n<path fill=\"none\" stroke=\"black\" d=\"M163.5,-396.75C163.5,-389.8 163.5,-379.85 163.5,-371.13\"/>\n<polygon fill=\"black\" stroke=\"black\" points=\"167,-371.09 163.5,-361.09 160,-371.09 167,-371.09\"/>\n</g>\n<!-- 140036596202464 -->\n<g id=\"node13\" class=\"node\">\n<title>140036596202464</title>\n<polygon fill=\"lightgrey\" stroke=\"black\" points=\"202,-477 101,-477 101,-458 202,-458 202,-477\"/>\n<text text-anchor=\"middle\" x=\"151.5\" y=\"-465\" font-family=\"monospace\" font-size=\"10.00\">AccumulateGrad</text>\n</g>\n<!-- 140036596202464&#45;&gt;140036596201312 -->\n<g id=\"edge12\" class=\"edge\">\n<title>140036596202464&#45;&gt;140036596201312</title>\n<path fill=\"none\" stroke=\"black\" d=\"M153.27,-457.79C154.95,-449.52 157.54,-436.79 159.69,-426.21\"/>\n<polygon fill=\"black\" stroke=\"black\" points=\"163.16,-426.74 161.72,-416.24 156.3,-425.34 163.16,-426.74\"/>\n</g>\n<!-- 140036595756992 -->\n<g id=\"node14\" class=\"node\">\n<title>140036595756992</title>\n<polygon fill=\"lightblue\" stroke=\"black\" points=\"178.5,-550 124.5,-550 124.5,-519 178.5,-519 178.5,-550\"/>\n<text text-anchor=\"middle\" x=\"151.5\" y=\"-526\" font-family=\"monospace\" font-size=\"10.00\"> (1)</text>\n</g>\n<!-- 140036595756992&#45;&gt;140036596202464 -->\n<g id=\"edge13\" class=\"edge\">\n<title>140036595756992&#45;&gt;140036596202464</title>\n<path fill=\"none\" stroke=\"black\" d=\"M151.5,-518.75C151.5,-509.39 151.5,-497.19 151.5,-487.16\"/>\n<polygon fill=\"black\" stroke=\"black\" points=\"155,-487.02 151.5,-477.02 148,-487.02 155,-487.02\"/>\n</g>\n<!-- 140036596198336 -->\n<g id=\"node15\" class=\"node\">\n<title>140036596198336</title>\n<polygon fill=\"lightgrey\" stroke=\"black\" points=\"101,-416 0,-416 0,-397 101,-397 101,-416\"/>\n<text text-anchor=\"middle\" x=\"50.5\" y=\"-404\" font-family=\"monospace\" font-size=\"10.00\">AccumulateGrad</text>\n</g>\n<!-- 140036596198336&#45;&gt;140036596193584 -->\n<g id=\"edge14\" class=\"edge\">\n<title>140036596198336&#45;&gt;140036596193584</title>\n<path fill=\"none\" stroke=\"black\" d=\"M68.66,-396.98C86.75,-388.5 114.78,-375.35 135.69,-365.54\"/>\n<polygon fill=\"black\" stroke=\"black\" points=\"137.45,-368.59 145.01,-361.17 134.47,-362.25 137.45,-368.59\"/>\n</g>\n<!-- 140036595757152 -->\n<g id=\"node16\" class=\"node\">\n<title>140036595757152</title>\n<polygon fill=\"lightblue\" stroke=\"black\" points=\"77.5,-483 23.5,-483 23.5,-452 77.5,-452 77.5,-483\"/>\n<text text-anchor=\"middle\" x=\"50.5\" y=\"-459\" font-family=\"monospace\" font-size=\"10.00\"> (1)</text>\n</g>\n<!-- 140036595757152&#45;&gt;140036596198336 -->\n<g id=\"edge15\" class=\"edge\">\n<title>140036595757152&#45;&gt;140036596198336</title>\n<path fill=\"none\" stroke=\"black\" d=\"M50.5,-451.92C50.5,-444.22 50.5,-434.69 50.5,-426.43\"/>\n<polygon fill=\"black\" stroke=\"black\" points=\"54,-426.25 50.5,-416.25 47,-426.25 54,-426.25\"/>\n</g>\n</g>\n</svg>\n",
            "text/plain": [
              "<graphviz.graphs.Digraph at 0x7f5ccf927e80>"
            ]
          },
          "metadata": {},
          "execution_count": 214
        }
      ]
    }
  ]
}